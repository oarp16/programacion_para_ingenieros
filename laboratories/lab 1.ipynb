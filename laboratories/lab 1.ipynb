{
 "cells": [
  {
   "cell_type": "code",
   "execution_count": 6,
   "id": "0fc801a6",
   "metadata": {},
   "outputs": [
    {
     "name": "stdout",
     "output_type": "stream",
     "text": [
      "194.87171000000012\n"
     ]
    }
   ],
   "source": [
    "dinero=100\n",
    "interes=dinero*(1+0.10)**7\n",
    "print(interes)"
   ]
  },
  {
   "cell_type": "code",
   "execution_count": 8,
   "id": "f9899631",
   "metadata": {},
   "outputs": [
    {
     "name": "stdout",
     "output_type": "stream",
     "text": [
      "100\n"
     ]
    }
   ],
   "source": [
    "ahorro=100\n",
    "print(ahorro)"
   ]
  },
  {
   "cell_type": "code",
   "execution_count": 18,
   "id": "1d23e113",
   "metadata": {},
   "outputs": [
    {
     "name": "stdout",
     "output_type": "stream",
     "text": [
      "194.87171000000012\n"
     ]
    }
   ],
   "source": [
    "ahorro=100\n",
    "mult_anual=(1+0.10)\n",
    "result=ahorro*(mult_anual)**7\n",
    "print(result)"
   ]
  },
  {
   "cell_type": "code",
   "execution_count": 25,
   "id": "80def50e",
   "metadata": {},
   "outputs": [
    {
     "name": "stdout",
     "output_type": "stream",
     "text": [
      "cadena de texto\n",
      "True\n"
     ]
    }
   ],
   "source": [
    "desc=str(\"cadena de texto\")\n",
    "print(desc)\n",
    "profit=bool(True)\n",
    "print(profit)"
   ]
  },
  {
   "cell_type": "code",
   "execution_count": 1,
   "id": "13565cf2",
   "metadata": {},
   "outputs": [
    {
     "name": "stdout",
     "output_type": "stream",
     "text": [
      "110.00000000000001\n",
      "<class 'float'>\n",
      "interes compuestointeres compuesto\n",
      "Empezamos con 100 mi resultado es: 110.00000000000001\n"
     ]
    }
   ],
   "source": [
    "ahorro=100\n",
    "mult=1.1\n",
    "desc=\"interes compuesto\"\n",
    "año1= ahorro*(mult)\n",
    "print(año1)\n",
    "print(type(año1))\n",
    "doubledesc=desc+desc\n",
    "print(doubledesc)\n",
    "print(\"Empezamos con \" + str(ahorro) + \" mi resultado es: \" + str(año1))"
   ]
  },
  {
   "cell_type": "code",
   "execution_count": 2,
   "id": "12913d3e",
   "metadata": {},
   "outputs": [
    {
     "name": "stdout",
     "output_type": "stream",
     "text": [
      "Empezamos con $100y ahora mismo tengo $194.87171000000012. Que bien!\n",
      "<class 'str'>\n",
      "3.1415926\n",
      "<class 'float'>\n"
     ]
    }
   ],
   "source": [
    "ahorros=100\n",
    "resultado=100*1.1**7\n",
    "print(\"Empezamos con $\"+ str(𝑎ℎ𝑜𝑟𝑟𝑜𝑠) + \"y ahora mismo tengo $\" + str(resultado) + \". Que bien!\")\n",
    "pi_string = \"3.1415926\"\n",
    "print(type(pi_string))\n",
    "pi_float = float(pi_string)\n",
    "print(pi_float)\n",
    "print(type(pi_float))"
   ]
  }
 ],
 "metadata": {
  "kernelspec": {
   "display_name": "Python 3 (ipykernel)",
   "language": "python",
   "name": "python3"
  },
  "language_info": {
   "codemirror_mode": {
    "name": "ipython",
    "version": 3
   },
   "file_extension": ".py",
   "mimetype": "text/x-python",
   "name": "python",
   "nbconvert_exporter": "python",
   "pygments_lexer": "ipython3",
   "version": "3.9.12"
  }
 },
 "nbformat": 4,
 "nbformat_minor": 5
}
