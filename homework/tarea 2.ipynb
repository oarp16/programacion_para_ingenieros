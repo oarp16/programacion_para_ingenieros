{
 "cells": [
  {
   "cell_type": "code",
   "execution_count": 15,
   "id": "2b6a674c",
   "metadata": {},
   "outputs": [
    {
     "data": {
      "text/plain": [
       "1.797"
      ]
     },
     "execution_count": 15,
     "metadata": {},
     "output_type": "execute_result"
    }
   ],
   "source": [
    "import numpy as np\n",
    "x= np.array([1.5, 2.2, 1.56, 1.78, 1.82, 1.90, 1.66, 1.91, 1.76, 1.88])\n",
    "np.mean(x)"
   ]
  },
  {
   "cell_type": "code",
   "execution_count": 24,
   "id": "3d3b316f",
   "metadata": {},
   "outputs": [
    {
     "data": {
      "text/plain": [
       "17.97"
      ]
     },
     "execution_count": 24,
     "metadata": {},
     "output_type": "execute_result"
    }
   ],
   "source": [
    "np.sum(x)"
   ]
  },
  {
   "cell_type": "code",
   "execution_count": 25,
   "id": "99543415",
   "metadata": {},
   "outputs": [
    {
     "data": {
      "text/plain": [
       "0.1892115218479044"
      ]
     },
     "execution_count": 25,
     "metadata": {},
     "output_type": "execute_result"
    }
   ],
   "source": [
    "np.std(x)"
   ]
  },
  {
   "cell_type": "code",
   "execution_count": 27,
   "id": "f1735621",
   "metadata": {},
   "outputs": [
    {
     "data": {
      "text/plain": [
       "9.874820387817715"
      ]
     },
     "execution_count": 27,
     "metadata": {},
     "output_type": "execute_result"
    }
   ],
   "source": [
    "y= ([0.56744433976086,  0.6871979493457484, 0.8463706897561651, 0.31110389619407564, 0.23511891089708503, 0.6577102252485975, 0.6648803069356928, 0.49989209380778477, 0.023793000481246773, 0.8777416618364761, 0.45262683262543646, 0.6430419554811486, 0.06347145550399458, 0.10628535246898096, 0.13551828266629173, 0.7030802149078524, 0.8656176079542628, 0.3939640454664668, 0.5144582885753547, 0.6255032779041944])\n",
    "np.sum(y)"
   ]
  },
  {
   "cell_type": "code",
   "execution_count": 29,
   "id": "61514659",
   "metadata": {},
   "outputs": [
    {
     "data": {
      "text/plain": [
       "0.49374101939088577"
      ]
     },
     "execution_count": 29,
     "metadata": {},
     "output_type": "execute_result"
    }
   ],
   "source": [
    "np.mean(y)"
   ]
  },
  {
   "cell_type": "code",
   "execution_count": 30,
   "id": "8cb7705e",
   "metadata": {},
   "outputs": [
    {
     "data": {
      "text/plain": [
       "0.5409513141681073"
      ]
     },
     "execution_count": 30,
     "metadata": {},
     "output_type": "execute_result"
    }
   ],
   "source": [
    "np.median(y)"
   ]
  },
  {
   "cell_type": "code",
   "execution_count": 31,
   "id": "36eff69d",
   "metadata": {},
   "outputs": [
    {
     "data": {
      "text/plain": [
       "0.26357035986903965"
      ]
     },
     "execution_count": 31,
     "metadata": {},
     "output_type": "execute_result"
    }
   ],
   "source": [
    "np.std(y)"
   ]
  },
  {
   "cell_type": "code",
   "execution_count": 34,
   "id": "b4308d72",
   "metadata": {},
   "outputs": [
    {
     "name": "stdout",
     "output_type": "stream",
     "text": [
      "[[0.56744434 0.68719795 0.84637069 0.3111039 ]\n",
      " [0.23511891 0.65771023 0.66488031 0.49989209]\n",
      " [0.023793   0.87774166 0.45262683 0.64304196]\n",
      " [0.06347146 0.10628535 0.13551828 0.70308021]\n",
      " [0.86561761 0.39396405 0.51445829 0.62550328]]\n"
     ]
    }
   ],
   "source": [
    "x= np.array([0.56744433976086,  0.6871979493457484, 0.8463706897561651, 0.31110389619407564, 0.23511891089708503, 0.6577102252485975, 0.6648803069356928, 0.49989209380778477, 0.023793000481246773, 0.8777416618364761, 0.45262683262543646, 0.6430419554811486, 0.06347145550399458, 0.10628535246898096, 0.13551828266629173, 0.7030802149078524, 0.8656176079542628, 0.3939640454664668, 0.5144582885753547, 0.6255032779041944]).reshape(5,4)\n",
    "print(x)"
   ]
  },
  {
   "cell_type": "code",
   "execution_count": 36,
   "id": "2eaf0e48",
   "metadata": {},
   "outputs": [
    {
     "data": {
      "text/plain": [
       "0.65771023"
      ]
     },
     "execution_count": 36,
     "metadata": {},
     "output_type": "execute_result"
    }
   ],
   "source": [
    "x= ([0.68719795, 0.65771023, 0.87774166, 0.10628535, 0.39396405])\n",
    "np.median(x)"
   ]
  },
  {
   "cell_type": "code",
   "execution_count": 38,
   "id": "9c652330",
   "metadata": {},
   "outputs": [
    {
     "data": {
      "text/plain": [
       "0.49930086249999994"
      ]
     },
     "execution_count": 38,
     "metadata": {},
     "output_type": "execute_result"
    }
   ],
   "source": [
    "x= ([0.023793, 0.87774166, 0.45262683, 0.64304196])\n",
    "np.mean(x)"
   ]
  },
  {
   "cell_type": "code",
   "execution_count": 41,
   "id": "44511616",
   "metadata": {},
   "outputs": [
    {
     "data": {
      "text/plain": [
       "0.2905108162888491"
      ]
     },
     "execution_count": 41,
     "metadata": {},
     "output_type": "execute_result"
    }
   ],
   "source": [
    "x= ([0.56744434, 0.23511891, 0.023793, 0.06347146, 0.86561761],[0.68719795, 0.65771023, 0.87774166, 0.10628535, 0.39396405],[0.84637069, 0.66488031, 0.45262683, 0.13551828, 0.51445829])\n",
    "np.std(x)"
   ]
  }
 ],
 "metadata": {
  "kernelspec": {
   "display_name": "Python 3 (ipykernel)",
   "language": "python",
   "name": "python3"
  },
  "language_info": {
   "codemirror_mode": {
    "name": "ipython",
    "version": 3
   },
   "file_extension": ".py",
   "mimetype": "text/x-python",
   "name": "python",
   "nbconvert_exporter": "python",
   "pygments_lexer": "ipython3",
   "version": "3.9.12"
  }
 },
 "nbformat": 4,
 "nbformat_minor": 5
}
